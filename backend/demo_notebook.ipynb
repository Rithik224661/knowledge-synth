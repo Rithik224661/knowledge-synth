{
 "cells": [
  {
   "cell_type": "markdown",
   "metadata": {},
   "source": [
    "# Knowledge Synthesis Platform - Research Agent Demo\n",
    "\n",
    "This notebook demonstrates the capabilities of the enhanced research agent with improved query decomposition and visualization features."
   ]
  },
  {
   "cell_type": "markdown",
   "metadata": {},
   "source": [
    "## Setup\n",
    "\n",
    "First, let's import the necessary libraries and initialize the research agent."
   ]
  },
  {
   "cell_type": "code",
   "execution_count": null,
   "metadata": {},
   "source": [
    "import os\n",
    "import sys\n",
    "from dotenv import load_dotenv\n",
    "from IPython.display import HTML, display\n",
    "\n",
    "# Add the app directory to the path so we can import from it\n",
    "sys.path.append(os.path.abspath('app'))\n",
    "\n",
    "# Load environment variables\n",
    "load_dotenv()\n",
    "\n",
    "# Import the ResearchAgent\n",
    "from services.research_agent import ResearchAgent\n",
    "from langchain_openai import ChatOpenAI, OpenAIEmbeddings\n",
    "\n",
    "# Check if OpenAI API key is set\n",
    "if not os.getenv('OPENAI_API_KEY'):\n",
    "    raise ValueError(\"OPENAI_API_KEY environment variable is not set. Please set it in the .env file.\")\n",
    "\n",
    "# Initialize the LLM and embeddings\n",
    "llm = ChatOpenAI(model_name='gpt-4', temperature=0)\n",
    "embeddings = OpenAIEmbeddings()\n",
    "\n",
    "# Initialize the research agent\n",
    "research_agent = ResearchAgent(llm=llm, embeddings=embeddings)\n",
    "\n",
    "print(\"Research agent initialized successfully!\")\n"
   ]
  },
  {
   "cell_type": "markdown",
   "metadata": {},
   "source": [
    "## Example Query: Analyzing Machine Learning for Climate Change\n",
    "\n",
    "Let's test the agent with a complex query that requires multiple steps and tools."
   ]
  },
  {
   "cell_type": "code",
   "execution_count": null,
   "metadata": {},
   "source": [
    "query = \"Analyze recent machine learning applications for climate change, summarize key papers, identify datasets used, and show publication trends.\"\n",
    "\n",
    "print(\"Executing research query...\")\n",
    "response = research_agent.research(query)\n",
    "print(\"Research completed!\")\n"
   ]
  },
  {
   "cell_type": "markdown",
   "metadata": {},
   "source": [
    "## Display Research Results\n",
    "\n",
    "Now let's examine the results of our research query."
   ]
  },
  {
   "cell_type": "code",
   "execution_count": null,
   "metadata": {},
   "source": [
    "# Display the response text\n",
    "print(\"\\nRESEARCH RESPONSE:\\n\")\n",
    "print(response['text'])\n",
    "\n",
    "# Display the sources used\n",
    "print(\"\\nSOURCES:\\n\")\n",
    "for source in response['sources']:\n",
    "    print(f\"- {source}\")\n",
    "\n",
    "# Display datasets identified (if any)\n",
    "if 'datasets' in response and response['datasets']:\n",
    "    print(\"\\nDATASETS IDENTIFIED:\\n\")\n",
    "    for dataset in response['datasets']:\n",
    "        print(f\"- {dataset}\")\n",
    "\n",
    "# Display evaluation scores\n",
    "print(\"\\nEVALUATION SCORES:\\n\")\n",
    "print(f\"Faithfulness: {response['evaluation']['faithfulness']['score']}/10\")\n",
    "print(f\"Relevance: {response['evaluation']['relevance']['score']}/10\")\n",
    "print(f\"Overall: {response['evaluation']['overall_score']}/10\")\n"
   ]
  },
  {
   "cell_type": "markdown",
   "metadata": {},
   "source": [
    "## Visualize Publication Trends\n",
    "\n",
    "Let's use our enhanced visualization capabilities to analyze publication trends for machine learning in climate change."
   ]
  },
  {
   "cell_type": "code",
   "execution_count": null,
   "metadata": {},
   "source": [
    "# Generate publication trend visualization\n",
    "trend_html = research_agent.analyze_publication_trends(\"machine learning climate change\", years_back=5)\n",
    "\n",
    "# Display the visualization\n",
    "display(HTML(trend_html))\n"
   ]
  },
  {
   "cell_type": "markdown",
   "metadata": {},
   "source": [
    "## Examining Query Decomposition\n",
    "\n",
    "Let's look at how the agent decomposes a complex query into subtasks."
   ]
  },
  {
   "cell_type": "code",
   "execution_count": null,
   "metadata": {},
   "source": [
    "# Example complex query\n",
    "complex_query = \"Compare deep learning and traditional machine learning approaches for climate prediction, identify the most commonly used datasets, and analyze which methods perform better for different climate variables.\"\n",
    "\n",
    "# Decompose the query\n",
    "subtasks = research_agent._decompose_query(complex_query)\n",
    "\n",
    "# Display the subtasks\n",
    "print(\"QUERY DECOMPOSITION:\\n\")\n",
    "for i, task in enumerate(subtasks, 1):\n",
    "    print(f\"Task {i}: {task['description']}\")\n",
    "    print(f\"Tool: {task['tool']}\")\n",
    "    print(f\"Input: {task['input']}\")\n",
    "    if 'dependencies' in task and task['dependencies']:\n",
    "        print(f\"Dependencies: {task['dependencies']}\")\n",
    "    print()\n"
   ]
  },
  {
   "cell_type": "markdown",
   "metadata": {},
   "source": [
    "## Conclusion\n",
    "\n",
    "This notebook demonstrates the enhanced capabilities of our research agent, including:\n",
    "\n",
    "1. Improved query decomposition for complex multi-step requests\n",
    "2. Enhanced visualization for publication trends\n",
    "3. Integration of multiple tools (web search, arxiv, document processing)\n",
    "4. Evaluation metrics for response quality\n",
    "\n",
    "The agent successfully handles complex research queries by breaking them down into manageable subtasks and orchestrating the execution of these tasks to produce comprehensive research results."
   ]
  }
 ],
 "metadata": {
  "kernelspec": {
   "display_name": "Python 3",
   "language": "python",
   "name": "python3"
  },
  "language_info": {
   "codemirror_mode": {
    "name": "ipython",
    "version": 3
   },
   "file_extension": ".py",
   "mimetype": "text/x-python",
   "name": "python",
   "nbconvert_exporter": "python",
   "pygments_lexer": "ipython3",
   "version": "3.9.0"
  }
 }
}